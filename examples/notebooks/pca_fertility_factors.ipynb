{
 "metadata": {
  "name": "",
  "signature": "sha256:5d3d5c3a7ada21ed10ee46ba347904944411d062ccc0ec23357605da41922806"
 },
 "nbformat": 3,
 "nbformat_minor": 0,
 "worksheets": [
  {
   "cells": [
    {
     "cell_type": "markdown",
     "metadata": {},
     "source": [
      "Statsmodels Principal Component Analysis\n",
      "========================================\n",
      "\n",
      "*Key ideas:* Principal component analysis, world bank data, fertility\n",
      "\n",
      "In this notebook, we use principal components analysis (PCA) to analyze the time series of fertility rates in 192 countries, using data obtained from the World Bank.  The main goal is to understand how the trends in fertility over time differ from country to country.  This is a slightly atypical illustration of PCA because the data are time series.  Methods such as functional PCA have been developed for this setting, but since the fertility data are very smooth, there is no real disadvantage to using standard PCA in this case."
     ]
    },
    {
     "cell_type": "code",
     "collapsed": false,
     "input": [
      "import pandas as pd\n",
      "import numpy as np\n",
      "from statsmodels.sandbox.tools.tools_pca import pcasvd"
     ],
     "language": "python",
     "metadata": {},
     "outputs": []
    },
    {
     "cell_type": "markdown",
     "metadata": {},
     "source": [
      "The data can be obtained from the [World Bank web site](http://data.worldbank.org/indicator/SP.DYN.TFRT.IN), but here we work with a slightly cleaned-up version of the data:"
     ]
    },
    {
     "cell_type": "code",
     "collapsed": false,
     "input": [
      "url = \"https://umich.box.com/shared/static/ar1kabejhyrhy1oxlxan.csv\"\n",
      "data = pd.read_csv(url)\n",
      "print data.head()"
     ],
     "language": "python",
     "metadata": {},
     "outputs": []
    },
    {
     "cell_type": "markdown",
     "metadata": {},
     "source": [
      "Here we construct a matrix that contains only the numerical fertility rate data, and a separate column of country names.  We also drop all the countries with any missing data."
     ]
    },
    {
     "cell_type": "code",
     "collapsed": false,
     "input": [
      "years = range(1960, 2012)\n",
      "years_str = [\"%.0f\" % y for y in years]\n",
      "mat = data.loc[:, years_str]\n",
      "ii = np.flatnonzero(pd.isnull(mat).sum(1) == 0)\n",
      "mat = np.asarray(mat.iloc[ii,:])\n",
      "countries = data[\"Country Name\"].iloc[ii].tolist()"
     ],
     "language": "python",
     "metadata": {},
     "outputs": []
    },
    {
     "cell_type": "markdown",
     "metadata": {},
     "source": [
      "There are two ways to use PCA to analyze a rectangular matrix: we can treat the rows as the \"objects\" and the columns as the \"variables\", or vice-versa.  Here we will treat the fertility measures as \"variables\" used to measure the countries as \"objects\".  Thus the goal will be to reduce the yearly fertility rate values to a small number of fertility rate \"profiles\" or \"basis functions\" that capture most of the variation over time in the different countries."
     ]
    },
    {
     "cell_type": "markdown",
     "metadata": {},
     "source": [
      "The mean trend is removed in PCA, but its worthwhile taking a look at it.  It shows that fertility has dropped steadily over the time period covered in this dataset.  Note that the mean is calculated using a country as the unit of analysis, ignoring population size.  This is also true for the PC analysis conducted below.  A more sophisticated analysis might weight the countries, say by population in 1980."
     ]
    },
    {
     "cell_type": "code",
     "collapsed": false,
     "input": [
      "plt.clf()\n",
      "mn = mat.mean(0)\n",
      "plt.plot(years, mn, '-')\n",
      "plt.xlabel(\"Year\", size=17)\n",
      "plt.ylabel(\"Fertility rate\", size=17)"
     ],
     "language": "python",
     "metadata": {},
     "outputs": []
    },
    {
     "cell_type": "markdown",
     "metadata": {},
     "source": [
      "Next we perform the PCA:"
     ]
    },
    {
     "cell_type": "code",
     "collapsed": false,
     "input": [
      "xreduced, factors, evals, evec = pcasvd(mat.T)"
     ],
     "language": "python",
     "metadata": {},
     "outputs": []
    },
    {
     "cell_type": "markdown",
     "metadata": {},
     "source": [
      "Based on the eigenvalues, we see that the first PC dominates, with perhaps a small amount of meaningful variation captured in the second and third PC's."
     ]
    },
    {
     "cell_type": "code",
     "collapsed": false,
     "input": [
      "plt.plot(evals[0:10])\n",
      "plt.xlabel(\"Component number\", size=17)\n",
      "plt.ylabel(\"Eigenvalue\", size=17)"
     ],
     "language": "python",
     "metadata": {},
     "outputs": []
    },
    {
     "cell_type": "markdown",
     "metadata": {},
     "source": [
      "Next we will plot the PC factors.  The dominant factor is monotonically increasing.  Countries with a positive score on the first factor will increase faster (or decrease slower) compared to the mean shown above.  Countries with a negative score on the first factor will decrease faster than the mean.  The second factor is U-shaped with a positive peak at around 1985.  Countries with a large positive score on the second factor will have lower than average fertilities at the beginning and end of the data range, but higher than average fertility in the middle of the range."
     ]
    },
    {
     "cell_type": "code",
     "collapsed": false,
     "input": [
      "plt.figure(figsize=(8,4))\n",
      "plt.clf()\n",
      "plt.axes([0.1, 0.1, 0.75, 0.9])\n",
      "plt.plot(years, factors[:,0], lw=4, alpha=0.6, label=\"PC 1\")\n",
      "plt.plot(years, factors[:,1], lw=4, alpha=0.6, label=\"PC 2\")\n",
      "plt.plot(years, factors[:,2], lw=4, alpha=0.6, label=\"PC 3\")\n",
      "ha,la = plt.gca().get_legend_handles_labels()\n",
      "leg = plt.figlegend(ha, la, loc=\"center right\")\n",
      "leg.draw_frame(False)\n",
      "plt.xlabel(\"Year\", size=17)\n",
      "plt.xlim(1960, 2010)"
     ],
     "language": "python",
     "metadata": {},
     "outputs": []
    },
    {
     "cell_type": "markdown",
     "metadata": {},
     "source": [
      "To better understand what is going on, we will plot the fertility trajectories for sets of countries with similar PC scores.  The following convenience function produces such a plot."
     ]
    },
    {
     "cell_type": "code",
     "collapsed": false,
     "input": [
      "def make_plot(ix):\n",
      "    plt.figure(figsize=(9,5))\n",
      "    plt.clf()\n",
      "    plt.axes([0.1, 0.1, 0.7, 0.8])\n",
      "    ha,lb = [],[]\n",
      "    for i in ix:\n",
      "        a, = plt.plot(years, mat[i,:], '-')\n",
      "        lb.append(countries[i][0:10])\n",
      "        ha.append(a)\n",
      "    a, = plt.plot(years, mn, '-', color='grey')\n",
      "    ha.append(a)\n",
      "    lb.append(\"Mean\")\n",
      "    leg = plt.figlegend(ha, lb, \"center right\")\n",
      "    leg.draw_frame(False)\n",
      "    plt.xlabel(\"Year\", size=17)\n",
      "    plt.xlim(1960, 2010)\n",
      "    plt.ylabel(\"Fertility\", size=17)    "
     ],
     "language": "python",
     "metadata": {},
     "outputs": []
    },
    {
     "cell_type": "markdown",
     "metadata": {},
     "source": [
      "First we plot the five countries with the greatest scores on PC 1.  These countries have a higher rate of fertility increase than the global mean (which is decreasing)."
     ]
    },
    {
     "cell_type": "code",
     "collapsed": false,
     "input": [
      "ii = np.argsort(evec[:,0])\n",
      "make_plot(ii[-5:])"
     ],
     "language": "python",
     "metadata": {},
     "outputs": []
    },
    {
     "cell_type": "markdown",
     "metadata": {},
     "source": [
      "Next we plot the fertility trajectories for the five countries with the least (most negative) scores on PC 1.  These countries have a faster rate of decrease than the gobal mean.  Note that the PC factors will usually not reflect circumstances that influence a single country, such as the conflicts in East Timor in the 1990's (above), or in Kuwait in 1991 (below)."
     ]
    },
    {
     "cell_type": "code",
     "collapsed": false,
     "input": [
      "make_plot(ii[0:5])"
     ],
     "language": "python",
     "metadata": {},
     "outputs": []
    },
    {
     "cell_type": "markdown",
     "metadata": {},
     "source": [
      "Here are the five countries with the greatest scores on factor 2.  These are countries that reached peak fertility around 1980, later than much of the rest of the world, followed by a rapid decrease in fertility."
     ]
    },
    {
     "cell_type": "code",
     "collapsed": false,
     "input": [
      "ii = np.argsort(evec[:,1])\n",
      "make_plot(ii[-5:])"
     ],
     "language": "python",
     "metadata": {},
     "outputs": []
    },
    {
     "cell_type": "markdown",
     "metadata": {},
     "source": [
      "Finally we have the countries with the most negative scores on PC 2.  These are the countries where the fertility rate declined much faster than the global mean during the 1960's and 1970's, then flattened out."
     ]
    },
    {
     "cell_type": "code",
     "collapsed": false,
     "input": [
      "make_plot(ii[0:5])"
     ],
     "language": "python",
     "metadata": {},
     "outputs": []
    },
    {
     "cell_type": "markdown",
     "metadata": {},
     "source": [
      "We can also look at a scatterplot of the first two principal component scores.  We see that the variation among countries is fairly continuous, except perhaps that the two countries with highest scores for PC 2 are somewhat separated from the other points.  These countries, Oman and Yemen, are unique in having a sharp spike in fertility around 1980.  No other country has such a spike.  In contrast, the countries with high scores on PC 1 (that have continuously increasing fertility), are part of a continuum of variation."
     ]
    },
    {
     "cell_type": "code",
     "collapsed": false,
     "input": [
      "plt.plot(evec[:,0], evec[:,1], 'o')\n",
      "plt.xlabel(\"PC 1\", size=17)\n",
      "plt.ylabel(\"PC 2\", size=17)\n",
      "ii = np.flatnonzero(evec[:,1] > 0.2)\n",
      "[countries[i] for i in ii]"
     ],
     "language": "python",
     "metadata": {},
     "outputs": []
    }
   ],
   "metadata": {}
  }
 ]
}